{
 "cells": [
  {
   "cell_type": "code",
   "execution_count": 1,
   "metadata": {},
   "outputs": [],
   "source": [
    "from dotenv import load_dotenv\n",
    "from utils.modules import *\n",
    "load_dotenv() # Load .env file\n",
    "from openai import OpenAI\n",
    "client = OpenAI()"
   ]
  },
  {
   "cell_type": "markdown",
   "metadata": {},
   "source": [
    "## You can start an assistant from scratch or even use an already made assistant on a thread made from scratch\n",
    "-> For Assistants -\n",
    "\n",
    "Set get_premade_assistant = False to create a new assistant.\n",
    "Set get_premade_assistant = True if you want to use a previous assistant.\n",
    "-> For Threads -\n",
    "\n",
    "Set get_previous_thread = False to create a new thread.\n",
    "Set get_previous_thread = True if you want to use a previous thread."
   ]
  },
  {
   "cell_type": "code",
   "execution_count": 2,
   "metadata": {},
   "outputs": [],
   "source": [
    "get_premade_assistant = True\n",
    "get_previous_thread = False\n",
    "\n",
    "assistant_id_to_use = \"asst_1TJkaPLevxkcyhUbeqWQar4b\"\n",
    "thread_id_to_use = \"\""
   ]
  },
  {
   "cell_type": "markdown",
   "metadata": {},
   "source": [
    "## Get Assistant using assistant id\n"
   ]
  },
  {
   "cell_type": "code",
   "execution_count": 3,
   "metadata": {},
   "outputs": [
    {
     "name": "stdout",
     "output_type": "stream",
     "text": [
      "rag_agent is ready to go!\n"
     ]
    }
   ],
   "source": [
    "if get_premade_assistant:\n",
    "    assistant = get_assistant(client, assistant_id_to_use) # Retrieve Assistant\n",
    "    print(assistant.name + \" is ready to go!\")\n",
    "else:\n",
    "    name = \"rag_agent\"\n",
    "    description = \"A tutor for science students\"\n",
    "    instructions = \"\"\"You are a virtual assistant helping to QA a brand manual PDF. Your task is to carefully read through the important chunks of PDF to find the information needed to answer the question.\n",
    "    Please read through the brand manual carefully, looking for any information relevant to answering the question. \n",
    "    Be sure to cite the specific pages where you found the information you used to arrive at your answer.\n",
    "    If the question cannot be answered based on the information provided in the brand manual, say \"I could not find enough information in the provided brand manual to answer this question.\"\n",
    "    \"\"\"\n",
    "\n",
    "    tools = [\n",
    "        {type: \"retrieval\"}\n",
    "    ]\n",
    "    assistant = create_assistant(client, name, description, instructions) # Create Assistant\n",
    "    print(\"New Assistant created with ID: \" + assistant.id)"
   ]
  },
  {
   "cell_type": "markdown",
   "metadata": {},
   "source": [
    "## Retrieve the previous conversation\n"
   ]
  },
  {
   "cell_type": "code",
   "execution_count": 4,
   "metadata": {},
   "outputs": [
    {
     "name": "stdout",
     "output_type": "stream",
     "text": [
      "New chat created with ID: thread_5jG88oFwzxzDKI6Mv0sPaSlV\n"
     ]
    }
   ],
   "source": [
    "# Retrieve the previous conversation thread\n",
    "\n",
    "if get_previous_thread:\n",
    "    thread = get_chat(client, thread_id_to_use)\n",
    "    print(\"Chat retrieved with ID: \" + thread.id)\n",
    "    print(thread)\n",
    "else:\n",
    "    thread = start_new_chat(client)\n",
    "    print(\"New chat created with ID: \" + thread.id)"
   ]
  },
  {
   "cell_type": "markdown",
   "metadata": {},
   "source": [
    "## Add new message into thread\n"
   ]
  },
  {
   "cell_type": "code",
   "execution_count": 5,
   "metadata": {},
   "outputs": [],
   "source": [
    "# Message to send to the assistant\n",
    "\n",
    "content = \"What Super pumps do you have?\""
   ]
  },
  {
   "cell_type": "code",
   "execution_count": 6,
   "metadata": {},
   "outputs": [
    {
     "name": "stdout",
     "output_type": "stream",
     "text": [
      "Message(id='msg_1fvwkmAKvMpQQaCBw5ENBspb', assistant_id=None, attachments=[], completed_at=None, content=[TextContentBlock(text=Text(annotations=[], value='What Super pumps do you have?'), type='text')], created_at=1716496066, incomplete_at=None, incomplete_details=None, metadata={}, object='thread.message', role='user', run_id=None, status=None, thread_id='thread_5jG88oFwzxzDKI6Mv0sPaSlV')\n"
     ]
    }
   ],
   "source": [
    "# Add the message into the thread\n",
    "\n",
    "new_message = add_message(client, thread, content)\n",
    "print(new_message)\n",
    "# Message(id='msg_B9sosqer2QV7tUXK50eDeqn9', assistant_id=None, completed_at=None, \n",
    "# content=[TextContentBlock(text=Text(annotations=[], value='What Super pumps do you have?'), type='text')], \n",
    "# created_at=1716488746, file_ids=[], incomplete_at=None, incomplete_details=None, metadata={}, \n",
    "# object='thread.message', role='user', run_id=None, status=None, thread_id='thread_vZQSpOtQsLN92rHa8Ax72hu2')"
   ]
  },
  {
   "cell_type": "markdown",
   "metadata": {},
   "source": [
    "## Run the thread with the new message"
   ]
  },
  {
   "cell_type": "code",
   "execution_count": 7,
   "metadata": {},
   "outputs": [],
   "source": [
    "# Run the thread with the assistant with the new message\n",
    "\n",
    "run = run_chat(client, thread, assistant)"
   ]
  },
  {
   "cell_type": "markdown",
   "metadata": {},
   "source": [
    "## Run the below code everytime you need to see the new chats\n"
   ]
  },
  {
   "cell_type": "code",
   "execution_count": 8,
   "metadata": {},
   "outputs": [
    {
     "name": "stdout",
     "output_type": "stream",
     "text": [
      "USER: What Super pumps do you have?\n",
      "ASSISTANT: The following Super Pumps are listed in the provided brand manual:\n",
      "\n",
      "1. **Super Pump 700 Single Speed**: 1.1 Total H.P., 3.4 WEF, 230/115 Voltage, and it weighs 35 lbs.\n",
      "2. **Super Pump Single Speed**: \n",
      "   - 0.60 H.P., 4.3 WEF, 115 Voltage, and it weighs 29 lbs.\n",
      "   - 0.85 H.P., 3.9 WEF, 230/115 Voltage, and it weighs 32 lbs.\n",
      "   - 1.1 H.P., 3.4 WEF, 230/115 Voltage, and it weighs 35 lbs.\n",
      "\n",
      "Detailed features of these pumps include:\n",
      "- Exclusive swing-away hand knobs for easier strainer cover removal\n",
      "- Large basket with extra leaf-holding capacity\n",
      "- See-through strainer cover for convenient inspection and maintenance\n",
      "- Heavy-duty, high-performance motor\n",
      "\n",
      "GPM performance data for Super Pumps SP2600X5, SP2605X7, SP2607X10, and SP2670007X10 in the single-speed category are provided in terms of the total resistance to flow measured as Feet of Head at different distances from 20 ft up to 70 ft .\n"
     ]
    }
   ],
   "source": [
    "history = get_messages_in_chat(client, thread)\n",
    "messages = history.data[::-1]\n",
    "for i in messages:\n",
    "    print(i.role.upper() + \": \"+ i.content[0].text.value)"
   ]
  }
 ],
 "metadata": {
  "kernelspec": {
   "display_name": "multi-modal-rag",
   "language": "python",
   "name": "python3"
  },
  "language_info": {
   "codemirror_mode": {
    "name": "ipython",
    "version": 3
   },
   "file_extension": ".py",
   "mimetype": "text/x-python",
   "name": "python",
   "nbconvert_exporter": "python",
   "pygments_lexer": "ipython3",
   "version": "3.11.8"
  }
 },
 "nbformat": 4,
 "nbformat_minor": 2
}
